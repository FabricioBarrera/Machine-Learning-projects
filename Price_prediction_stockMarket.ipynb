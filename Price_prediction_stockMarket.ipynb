{
 "cells": [
  {
   "cell_type": "markdown",
   "metadata": {},
   "source": [
    "Experimento sobre finanzas"
   ]
  },
  {
   "cell_type": "code",
   "execution_count": 14,
   "metadata": {},
   "outputs": [],
   "source": [
    "import yfinance as yf\n",
    "import pandas as pd\n",
    "import numpy as np\n",
    "from sklearn.model_selection import train_test_split\n",
    "from sklearn.linear_model import LinearRegression\n",
    "from sklearn import tree\n",
    "from sklearn.ensemble import RandomForestRegressor\n",
    "from sklearn.metrics import r2_score\n",
    "from sklearn.metrics import mean_squared_error\n",
    "from datetime import datetime\n",
    "from sklearn.model_selection import cross_val_score, KFold"
   ]
  },
  {
   "cell_type": "code",
   "execution_count": 15,
   "metadata": {},
   "outputs": [
    {
     "data": {
      "text/plain": [
       "(2957, 7)"
      ]
     },
     "execution_count": 15,
     "metadata": {},
     "output_type": "execute_result"
    }
   ],
   "source": [
    "# Ticker bitcoin-usd\n",
    "btc = yf.Ticker('BTC-USD')\n",
    " \n",
    "# msft.info will return all information\n",
    "# about microsoft corporation\n",
    "data = btc.history(period='max')\n",
    " \n",
    "# printing the data\n",
    "data.shape"
   ]
  },
  {
   "cell_type": "code",
   "execution_count": 16,
   "metadata": {},
   "outputs": [
    {
     "data": {
      "text/html": [
       "<div>\n",
       "<style scoped>\n",
       "    .dataframe tbody tr th:only-of-type {\n",
       "        vertical-align: middle;\n",
       "    }\n",
       "\n",
       "    .dataframe tbody tr th {\n",
       "        vertical-align: top;\n",
       "    }\n",
       "\n",
       "    .dataframe thead th {\n",
       "        text-align: right;\n",
       "    }\n",
       "</style>\n",
       "<table border=\"1\" class=\"dataframe\">\n",
       "  <thead>\n",
       "    <tr style=\"text-align: right;\">\n",
       "      <th></th>\n",
       "      <th>Open</th>\n",
       "      <th>High</th>\n",
       "      <th>Low</th>\n",
       "      <th>Close</th>\n",
       "      <th>Volume</th>\n",
       "    </tr>\n",
       "    <tr>\n",
       "      <th>Date</th>\n",
       "      <th></th>\n",
       "      <th></th>\n",
       "      <th></th>\n",
       "      <th></th>\n",
       "      <th></th>\n",
       "    </tr>\n",
       "  </thead>\n",
       "  <tbody>\n",
       "    <tr>\n",
       "      <th>2022-10-17 00:00:00+00:00</th>\n",
       "      <td>19268.562500</td>\n",
       "      <td>19635.802734</td>\n",
       "      <td>19173.333984</td>\n",
       "      <td>19550.757812</td>\n",
       "      <td>27472552998</td>\n",
       "    </tr>\n",
       "    <tr>\n",
       "      <th>2022-10-18 00:00:00+00:00</th>\n",
       "      <td>19550.466797</td>\n",
       "      <td>19666.994141</td>\n",
       "      <td>19144.769531</td>\n",
       "      <td>19334.416016</td>\n",
       "      <td>30580012344</td>\n",
       "    </tr>\n",
       "    <tr>\n",
       "      <th>2022-10-19 00:00:00+00:00</th>\n",
       "      <td>19335.027344</td>\n",
       "      <td>19348.416016</td>\n",
       "      <td>19127.687500</td>\n",
       "      <td>19139.535156</td>\n",
       "      <td>22425387184</td>\n",
       "    </tr>\n",
       "    <tr>\n",
       "      <th>2022-10-20 00:00:00+00:00</th>\n",
       "      <td>19138.085938</td>\n",
       "      <td>19315.199219</td>\n",
       "      <td>18971.458984</td>\n",
       "      <td>19053.740234</td>\n",
       "      <td>24493974420</td>\n",
       "    </tr>\n",
       "    <tr>\n",
       "      <th>2022-10-21 00:00:00+00:00</th>\n",
       "      <td>19056.195312</td>\n",
       "      <td>19120.312500</td>\n",
       "      <td>18956.990234</td>\n",
       "      <td>18958.343750</td>\n",
       "      <td>26685202432</td>\n",
       "    </tr>\n",
       "  </tbody>\n",
       "</table>\n",
       "</div>"
      ],
      "text/plain": [
       "                                   Open          High           Low  \\\n",
       "Date                                                                  \n",
       "2022-10-17 00:00:00+00:00  19268.562500  19635.802734  19173.333984   \n",
       "2022-10-18 00:00:00+00:00  19550.466797  19666.994141  19144.769531   \n",
       "2022-10-19 00:00:00+00:00  19335.027344  19348.416016  19127.687500   \n",
       "2022-10-20 00:00:00+00:00  19138.085938  19315.199219  18971.458984   \n",
       "2022-10-21 00:00:00+00:00  19056.195312  19120.312500  18956.990234   \n",
       "\n",
       "                                  Close       Volume  \n",
       "Date                                                  \n",
       "2022-10-17 00:00:00+00:00  19550.757812  27472552998  \n",
       "2022-10-18 00:00:00+00:00  19334.416016  30580012344  \n",
       "2022-10-19 00:00:00+00:00  19139.535156  22425387184  \n",
       "2022-10-20 00:00:00+00:00  19053.740234  24493974420  \n",
       "2022-10-21 00:00:00+00:00  18958.343750  26685202432  "
      ]
     },
     "execution_count": 16,
     "metadata": {},
     "output_type": "execute_result"
    }
   ],
   "source": [
    "#Chequeamos que la data este correcta y usamos las columnas que nos sirven para la prediccion\n",
    "data1 = data[['Open', 'High', 'Low', 'Close', 'Volume']]\n",
    "data1.tail()"
   ]
  },
  {
   "cell_type": "code",
   "execution_count": 17,
   "metadata": {},
   "outputs": [],
   "source": [
    "#Pasamos las fechas a una columna llamada 'Day'\n",
    "data2 = data1.rename_axis('Day').reset_index()"
   ]
  },
  {
   "cell_type": "code",
   "execution_count": 18,
   "metadata": {},
   "outputs": [],
   "source": [
    "#Obtenemos los años, meses, dia y dia de la semana\n",
    "data2['year'] = pd.DatetimeIndex(data2['Day']).year\n",
    "data2['month'] = pd.DatetimeIndex(data2['Day']).month\n",
    "data2['day'] = pd.DatetimeIndex(data2['Day']).day\n",
    "data2['dayofweek'] = pd.DatetimeIndex(data2['Day']).dayofweek"
   ]
  },
  {
   "cell_type": "code",
   "execution_count": 19,
   "metadata": {},
   "outputs": [
    {
     "data": {
      "text/html": [
       "<div>\n",
       "<style scoped>\n",
       "    .dataframe tbody tr th:only-of-type {\n",
       "        vertical-align: middle;\n",
       "    }\n",
       "\n",
       "    .dataframe tbody tr th {\n",
       "        vertical-align: top;\n",
       "    }\n",
       "\n",
       "    .dataframe thead th {\n",
       "        text-align: right;\n",
       "    }\n",
       "</style>\n",
       "<table border=\"1\" class=\"dataframe\">\n",
       "  <thead>\n",
       "    <tr style=\"text-align: right;\">\n",
       "      <th></th>\n",
       "      <th>Day</th>\n",
       "      <th>Open</th>\n",
       "      <th>High</th>\n",
       "      <th>Low</th>\n",
       "      <th>Close</th>\n",
       "      <th>Volume</th>\n",
       "      <th>year</th>\n",
       "      <th>month</th>\n",
       "      <th>day</th>\n",
       "      <th>dayofweek</th>\n",
       "    </tr>\n",
       "  </thead>\n",
       "  <tbody>\n",
       "    <tr>\n",
       "      <th>0</th>\n",
       "      <td>2014-09-17 00:00:00+00:00</td>\n",
       "      <td>465.864014</td>\n",
       "      <td>468.174011</td>\n",
       "      <td>452.421997</td>\n",
       "      <td>457.334015</td>\n",
       "      <td>21056800</td>\n",
       "      <td>2014</td>\n",
       "      <td>9</td>\n",
       "      <td>17</td>\n",
       "      <td>2</td>\n",
       "    </tr>\n",
       "    <tr>\n",
       "      <th>1</th>\n",
       "      <td>2014-09-18 00:00:00+00:00</td>\n",
       "      <td>456.859985</td>\n",
       "      <td>456.859985</td>\n",
       "      <td>413.104004</td>\n",
       "      <td>424.440002</td>\n",
       "      <td>34483200</td>\n",
       "      <td>2014</td>\n",
       "      <td>9</td>\n",
       "      <td>18</td>\n",
       "      <td>3</td>\n",
       "    </tr>\n",
       "    <tr>\n",
       "      <th>2</th>\n",
       "      <td>2014-09-19 00:00:00+00:00</td>\n",
       "      <td>424.102997</td>\n",
       "      <td>427.834991</td>\n",
       "      <td>384.532013</td>\n",
       "      <td>394.795990</td>\n",
       "      <td>37919700</td>\n",
       "      <td>2014</td>\n",
       "      <td>9</td>\n",
       "      <td>19</td>\n",
       "      <td>4</td>\n",
       "    </tr>\n",
       "    <tr>\n",
       "      <th>3</th>\n",
       "      <td>2014-09-20 00:00:00+00:00</td>\n",
       "      <td>394.673004</td>\n",
       "      <td>423.295990</td>\n",
       "      <td>389.882996</td>\n",
       "      <td>408.903992</td>\n",
       "      <td>36863600</td>\n",
       "      <td>2014</td>\n",
       "      <td>9</td>\n",
       "      <td>20</td>\n",
       "      <td>5</td>\n",
       "    </tr>\n",
       "    <tr>\n",
       "      <th>4</th>\n",
       "      <td>2014-09-21 00:00:00+00:00</td>\n",
       "      <td>408.084991</td>\n",
       "      <td>412.425995</td>\n",
       "      <td>393.181000</td>\n",
       "      <td>398.821014</td>\n",
       "      <td>26580100</td>\n",
       "      <td>2014</td>\n",
       "      <td>9</td>\n",
       "      <td>21</td>\n",
       "      <td>6</td>\n",
       "    </tr>\n",
       "  </tbody>\n",
       "</table>\n",
       "</div>"
      ],
      "text/plain": [
       "                        Day        Open        High         Low       Close  \\\n",
       "0 2014-09-17 00:00:00+00:00  465.864014  468.174011  452.421997  457.334015   \n",
       "1 2014-09-18 00:00:00+00:00  456.859985  456.859985  413.104004  424.440002   \n",
       "2 2014-09-19 00:00:00+00:00  424.102997  427.834991  384.532013  394.795990   \n",
       "3 2014-09-20 00:00:00+00:00  394.673004  423.295990  389.882996  408.903992   \n",
       "4 2014-09-21 00:00:00+00:00  408.084991  412.425995  393.181000  398.821014   \n",
       "\n",
       "     Volume  year  month  day  dayofweek  \n",
       "0  21056800  2014      9   17          2  \n",
       "1  34483200  2014      9   18          3  \n",
       "2  37919700  2014      9   19          4  \n",
       "3  36863600  2014      9   20          5  \n",
       "4  26580100  2014      9   21          6  "
      ]
     },
     "execution_count": 19,
     "metadata": {},
     "output_type": "execute_result"
    }
   ],
   "source": [
    "#Comprobamos que todo este cargado\n",
    "data2.head()"
   ]
  },
  {
   "cell_type": "code",
   "execution_count": 20,
   "metadata": {},
   "outputs": [],
   "source": [
    "#Sacamos la columna 'Day' ya que es un formato datetime y el modelo no puede aprender de ese tipo de datos\n",
    "data3 = data2[['Open','High','Low','Close','Volume','year','month','day','dayofweek']]\n"
   ]
  },
  {
   "cell_type": "code",
   "execution_count": 21,
   "metadata": {},
   "outputs": [],
   "source": [
    "#Separamos los datos para entrenar y los datos para predecir\n",
    "X = data3[['Open','year','month','day','dayofweek']]\n",
    "\n",
    "y = data3['Close']"
   ]
  },
  {
   "cell_type": "code",
   "execution_count": 22,
   "metadata": {},
   "outputs": [],
   "source": [
    "X_train, X_test, y_train, y_test= train_test_split(X,y,test_size=0.3,random_state=42)"
   ]
  },
  {
   "cell_type": "code",
   "execution_count": 27,
   "metadata": {},
   "outputs": [
    {
     "name": "stdout",
     "output_type": "stream",
     "text": [
      "Entrenamiento modelo 0/3 (Creando modelo)\n",
      "Linear regression, puntuacion del train: 0.9976821364742007\n",
      "Linear regression, puntuacion del test: 0.997412595276937\n",
      "872.5232136071529\n"
     ]
    }
   ],
   "source": [
    "print('Entrenamiento modelo 0/3 (Creando modelo)')\n",
    "LReg = LinearRegression()\n",
    "\n",
    "LReg.fit(X_train, y_train)\n",
    "print('Linear regression, puntuacion del train:',LReg.score(X_train,y_train))\n",
    "print('Linear regression, puntuacion del test:',LReg.score(X_test,y_test))\n",
    "y_pred = LReg.predict(X_test)\n",
    "print(mean_squared_error(y_test,y_pred,squared=False))"
   ]
  },
  {
   "cell_type": "markdown",
   "metadata": {},
   "source": [
    "Vamos a hacer cross-validation"
   ]
  },
  {
   "cell_type": "code",
   "execution_count": 24,
   "metadata": {},
   "outputs": [
    {
     "name": "stdout",
     "output_type": "stream",
     "text": [
      "[0.99758825 0.99744044 0.99664733 0.99795092 0.99753509 0.99816695]\n"
     ]
    }
   ],
   "source": [
    "kf = KFold(n_splits=6,shuffle=True,random_state=42)\n",
    "reg = LinearRegression()\n",
    "cv_scores = cross_val_score(reg,X,y, cv=kf)\n",
    "\n",
    "print(cv_scores)"
   ]
  },
  {
   "cell_type": "code",
   "execution_count": 25,
   "metadata": {},
   "outputs": [
    {
     "data": {
      "text/html": [
       "<div>\n",
       "<style scoped>\n",
       "    .dataframe tbody tr th:only-of-type {\n",
       "        vertical-align: middle;\n",
       "    }\n",
       "\n",
       "    .dataframe tbody tr th {\n",
       "        vertical-align: top;\n",
       "    }\n",
       "\n",
       "    .dataframe thead th {\n",
       "        text-align: right;\n",
       "    }\n",
       "</style>\n",
       "<table border=\"1\" class=\"dataframe\">\n",
       "  <thead>\n",
       "    <tr style=\"text-align: right;\">\n",
       "      <th></th>\n",
       "      <th>Open</th>\n",
       "      <th>High</th>\n",
       "      <th>Low</th>\n",
       "      <th>Close</th>\n",
       "      <th>Volume</th>\n",
       "      <th>year</th>\n",
       "      <th>month</th>\n",
       "      <th>day</th>\n",
       "      <th>dayofweek</th>\n",
       "    </tr>\n",
       "  </thead>\n",
       "  <tbody>\n",
       "    <tr>\n",
       "      <th>2952</th>\n",
       "      <td>19268.562500</td>\n",
       "      <td>19635.802734</td>\n",
       "      <td>19173.333984</td>\n",
       "      <td>19550.757812</td>\n",
       "      <td>27472552998</td>\n",
       "      <td>2022</td>\n",
       "      <td>10</td>\n",
       "      <td>17</td>\n",
       "      <td>0</td>\n",
       "    </tr>\n",
       "    <tr>\n",
       "      <th>2953</th>\n",
       "      <td>19550.466797</td>\n",
       "      <td>19666.994141</td>\n",
       "      <td>19144.769531</td>\n",
       "      <td>19334.416016</td>\n",
       "      <td>30580012344</td>\n",
       "      <td>2022</td>\n",
       "      <td>10</td>\n",
       "      <td>18</td>\n",
       "      <td>1</td>\n",
       "    </tr>\n",
       "    <tr>\n",
       "      <th>2954</th>\n",
       "      <td>19335.027344</td>\n",
       "      <td>19348.416016</td>\n",
       "      <td>19127.687500</td>\n",
       "      <td>19139.535156</td>\n",
       "      <td>22425387184</td>\n",
       "      <td>2022</td>\n",
       "      <td>10</td>\n",
       "      <td>19</td>\n",
       "      <td>2</td>\n",
       "    </tr>\n",
       "    <tr>\n",
       "      <th>2955</th>\n",
       "      <td>19138.085938</td>\n",
       "      <td>19315.199219</td>\n",
       "      <td>18971.458984</td>\n",
       "      <td>19053.740234</td>\n",
       "      <td>24493974420</td>\n",
       "      <td>2022</td>\n",
       "      <td>10</td>\n",
       "      <td>20</td>\n",
       "      <td>3</td>\n",
       "    </tr>\n",
       "    <tr>\n",
       "      <th>2956</th>\n",
       "      <td>19056.195312</td>\n",
       "      <td>19120.312500</td>\n",
       "      <td>18956.990234</td>\n",
       "      <td>18958.343750</td>\n",
       "      <td>26685202432</td>\n",
       "      <td>2022</td>\n",
       "      <td>10</td>\n",
       "      <td>21</td>\n",
       "      <td>4</td>\n",
       "    </tr>\n",
       "  </tbody>\n",
       "</table>\n",
       "</div>"
      ],
      "text/plain": [
       "              Open          High           Low         Close       Volume  \\\n",
       "2952  19268.562500  19635.802734  19173.333984  19550.757812  27472552998   \n",
       "2953  19550.466797  19666.994141  19144.769531  19334.416016  30580012344   \n",
       "2954  19335.027344  19348.416016  19127.687500  19139.535156  22425387184   \n",
       "2955  19138.085938  19315.199219  18971.458984  19053.740234  24493974420   \n",
       "2956  19056.195312  19120.312500  18956.990234  18958.343750  26685202432   \n",
       "\n",
       "      year  month  day  dayofweek  \n",
       "2952  2022     10   17          0  \n",
       "2953  2022     10   18          1  \n",
       "2954  2022     10   19          2  \n",
       "2955  2022     10   20          3  \n",
       "2956  2022     10   21          4  "
      ]
     },
     "execution_count": 25,
     "metadata": {},
     "output_type": "execute_result"
    }
   ],
   "source": [
    "data3.tail()"
   ]
  },
  {
   "cell_type": "markdown",
   "metadata": {},
   "source": [
    "Trabajamos en la prediccion de mañana"
   ]
  },
  {
   "cell_type": "code",
   "execution_count": 26,
   "metadata": {},
   "outputs": [
    {
     "name": "stdout",
     "output_type": "stream",
     "text": [
      "           Open  year  month  day  dayofweek\n",
      "0  19056.195312  2022     10   21          4\n",
      "Precio de Cierre: $ [19089.16902742]\n"
     ]
    }
   ],
   "source": [
    "#Aqui trataremos de predecir de acuerdo al input que le pongamos, ponemos el precio de apertura manualmente\n",
    "open = input()\n",
    "today = datetime.today()\n",
    "year = today.year\n",
    "month = today.month\n",
    "day = today.day\n",
    "dayofweek = today.weekday()\n",
    "hour = today.hour\n",
    "prueba = {'Open':[open],\n",
    "            'year':[year],\n",
    "            'month':[month],\n",
    "            'day':[day],\n",
    "            'dayofweek': [dayofweek],\n",
    "}\n",
    "prueba_final = pd.DataFrame(prueba)\n",
    "print(prueba_final)\n",
    "cierre = LReg.predict(prueba_final)\n",
    "print('Precio de Cierre: $',cierre)"
   ]
  }
 ],
 "metadata": {
  "kernelspec": {
   "display_name": "Python 3.10.7 64-bit",
   "language": "python",
   "name": "python3"
  },
  "language_info": {
   "codemirror_mode": {
    "name": "ipython",
    "version": 3
   },
   "file_extension": ".py",
   "mimetype": "text/x-python",
   "name": "python",
   "nbconvert_exporter": "python",
   "pygments_lexer": "ipython3",
   "version": "3.10.8"
  },
  "orig_nbformat": 4,
  "vscode": {
   "interpreter": {
    "hash": "d71932a45778dcd9e125f58f7ae4a58937baa7757ea75ba3f794975ebf21b95f"
   }
  }
 },
 "nbformat": 4,
 "nbformat_minor": 2
}
